{
 "cells": [
  {
   "cell_type": "code",
   "execution_count": 1,
   "metadata": {},
   "outputs": [],
   "source": [
    "%matplotlib inline\n",
    "from __future__ import division"
   ]
  },
  {
   "cell_type": "code",
   "execution_count": 2,
   "metadata": {},
   "outputs": [],
   "source": [
    "import pandas as pd\n",
    "import numpy as np\n",
    "import seaborn as sns\n",
    "import matplotlib.pyplot as plt"
   ]
  },
  {
   "cell_type": "code",
   "execution_count": 3,
   "metadata": {},
   "outputs": [],
   "source": [
    "from pylab import rcParams\n",
    "rcParams['figure.figsize'] = 16, 8"
   ]
  },
  {
   "cell_type": "code",
   "execution_count": 4,
   "metadata": {},
   "outputs": [
    {
     "name": "stderr",
     "output_type": "stream",
     "text": [
      "/anaconda3/lib/python3.6/site-packages/IPython/core/interactiveshell.py:2785: DtypeWarning: Columns (717,718) have mixed types. Specify dtype option on import or set low_memory=False.\n",
      "  interactivity=interactivity, compiler=compiler, result=result)\n"
     ]
    },
    {
     "data": {
      "text/plain": [
       "(12083, 940)"
      ]
     },
     "execution_count": 4,
     "metadata": {},
     "output_type": "execute_result"
    }
   ],
   "source": [
    "energy = pd.read_csv('../../data/recs2009_public.csv')\n",
    "energy.shape"
   ]
  },
  {
   "cell_type": "code",
   "execution_count": 5,
   "metadata": {},
   "outputs": [],
   "source": [
    "vars_imputation_flags = ([\n",
    "    'ZKOWNRENT',\n",
    "    'ZCONDCOOP',\n",
    "    'ZYEARMADE',\n",
    "    'ZYEARMADERANGE',\n",
    "    'ZOCCUPYYRANGE',\n",
    "    'ZCONVERSION',\n",
    "    'ZORIG1FAM',\n",
    "    'ZLOOKLIKE',\n",
    "    'ZNUMFLRS',\n",
    "    'ZNUMAPTS',\n",
    "    'ZWALLTYPE',\n",
    "    'ZROOFTYPE',\n",
    "    'ZSTUDIO',\n",
    "    'ZNAPTFLRS',\n",
    "    'ZSTORIES',\n",
    "    'ZTYPEHUQ4',\n",
    "    'ZBEDROOMS',\n",
    "    'ZNCOMBATH',\n",
    "    'ZNHAFBATH',\n",
    "    'ZOTHROOMS',\n",
    "    'ZCELLAR',\n",
    "    'ZCRAWL',\n",
    "    'ZCONCRETE',\n",
    "    'ZBASEFIN',\n",
    "    'ZFINBASERMS',\n",
    "    'ZBASEHEAT',\n",
    "    'ZBASEHT2',\n",
    "    'ZPCTBSTHT',\n",
    "    'ZBASECOOL',\n",
    "    'ZBASECL2',\n",
    "    'ZPCTBSTCL',\n",
    "    'ZBASEUSE',\n",
    "    'ZATTIC',\n",
    "    'ZATTICFIN',\n",
    "    'ZFINATTRMS',\n",
    "    'ZATTCHEAT',\n",
    "    'ZATTCHT2',\n",
    "    'ZPCTATTHT',\n",
    "    'ZATTCCOOL',\n",
    "    'ZPCTATTCL',\n",
    "    'ZATTCCL2',\n",
    "    'ZATTICUSE',\n",
    "    'ZPRKGPLC1',\n",
    "    'ZSIZEOFGARAGE',\n",
    "    'ZGARGLOC',\n",
    "    'ZGARGHEAT',\n",
    "    'ZGARGCOOL',\n",
    "    'ZPRKGPLC2',\n",
    "    'ZSIZEOFDETACH',\n",
    "    'ZSTOVEN',\n",
    "    'ZSTOVENFUEL',\n",
    "    'ZSTOVE',\n",
    "    'ZSTOVEFUEL',\n",
    "    'ZOVEN',\n",
    "    'ZOVENFUEL',\n",
    "    'ZOVENUSE',\n",
    "    'ZOVENCLN',\n",
    "    'ZTYPECLN',\n",
    "    'ZMICRO',\n",
    "    'ZAMTMICRO',\n",
    "    'ZDEFROST',\n",
    "    'ZOUTGRILL',\n",
    "    'ZOUTGRILLFUEL',\n",
    "    'ZTOPGRILL',\n",
    "    'ZSTGRILA',\n",
    "    'ZTOASTER',\n",
    "    'ZNUMMEAL',\n",
    "    'ZFUELFOOD',\n",
    "    'ZCOFFEE',\n",
    "    'ZNUMFRIG',\n",
    "    'ZTYPERFR1',\n",
    "    'ZSIZRFRI1',\n",
    "    'ZREFRIGT1',\n",
    "    'ZICE',\n",
    "    'ZAGERFRI1',\n",
    "    'ZTYPERFR2',\n",
    "    'ZSIZRFRI2',\n",
    "    'ZREFRIGT2',\n",
    "    'ZMONRFRI2',\n",
    "    'ZAGERFRI2',\n",
    "    'ZTYPERFR3',\n",
    "    'ZSIZRFRI3',\n",
    "    'ZREFRIGT3',\n",
    "    'ZMONRFRI3',\n",
    "    'ZAGERFRI3',\n",
    "    'ZSEPFREEZ',\n",
    "    'ZNUMFREEZ',\n",
    "    'ZUPRTFRZR',\n",
    "    'ZSIZFREEZ',\n",
    "    'ZFREEZER',\n",
    "    'ZAGEFRZR',\n",
    "    'ZUPRTFRZR2',\n",
    "    'ZSIZFREEZ2',\n",
    "    'ZFREEZER2',\n",
    "    'ZAGEFRZR2',\n",
    "    'ZDISHWASH',\n",
    "    'ZDWASHUSE',\n",
    "    'ZAGEDW',\n",
    "    'ZCWASHER',\n",
    "    'ZTOPFRONT',\n",
    "    'ZWASHLOAD',\n",
    "    'ZWASHTEMP',\n",
    "    'ZRNSETEMP',\n",
    "    'ZAGECWASH',\n",
    "    'ZDRYER',\n",
    "    'ZDRYRFUEL',\n",
    "    'ZDRYRUSE',\n",
    "    'ZAGECDRYER',\n",
    "    'ZTVCOLOR',\n",
    "    'ZTVSIZE1',\n",
    "    'ZTVTYPE1',\n",
    "    'ZCABLESAT1',\n",
    "    'ZCOMBODVR1',\n",
    "    'ZDVR1',\n",
    "    'ZDIGITSTB1',\n",
    "    'ZPLAYSTA1',\n",
    "    'ZCOMBOVCRDVD1',\n",
    "    'ZVCR1',\n",
    "    'ZDVD1',\n",
    "    'ZTVAUDIOSYS1',\n",
    "    'ZOTHERSTB1',\n",
    "    'ZTVONWD1',\n",
    "    'ZTVONWDWATCH1',\n",
    "    'ZTVONWE1',\n",
    "    'ZTVONWEWATCH1',\n",
    "    'ZTVSIZE2',\n",
    "    'ZTVTYPE2',\n",
    "    'ZCABLESAT2',\n",
    "    'ZCOMBODVR2',\n",
    "    'ZDVR2',\n",
    "    'ZDIGITSTB2',\n",
    "    'ZPLAYSTA2',\n",
    "    'ZCOMBOVCRDVD2',\n",
    "    'ZVCR2',\n",
    "    'ZDVD2',\n",
    "    'ZTVAUDIOSYS2',\n",
    "    'ZOTHERSTB2',\n",
    "    'ZTVONWD2',\n",
    "    'ZTVONWDWATCH2',\n",
    "    'ZTVONWE2',\n",
    "    'ZTVONWEWATCH2',\n",
    "    'ZTVSIZE3',\n",
    "    'ZTVTYPE3',\n",
    "    'ZCABLESAT3',\n",
    "    'ZCOMBODVR3',\n",
    "    'ZDVR3',\n",
    "    'ZDIGITSTB3',\n",
    "    'ZPLAYSTA3',\n",
    "    'ZCOMBOVCRDVD3',\n",
    "    'ZVCR3',\n",
    "    'ZDVD3',\n",
    "    'ZTVAUDIOSYS3',\n",
    "    'ZOTHERSTB3',\n",
    "    'ZTVONWD3',\n",
    "    'ZTVONWDWATCH3',\n",
    "    'ZTVONWE3',\n",
    "    'ZTVONWEWATCH3',\n",
    "    'ZCOMPUTER',\n",
    "    'ZNUMPC',\n",
    "    'ZPCTYPE1',\n",
    "    'ZMONITOR1',\n",
    "    'ZTIMEON1',\n",
    "    'ZPCONOFF1',\n",
    "    'ZPCSLEEP1',\n",
    "    'ZPCTYPE2',\n",
    "    'ZMONITOR2',\n",
    "    'ZTIMEON2',\n",
    "    'ZPCONOFF2',\n",
    "    'ZPCSLEEP2',\n",
    "    'ZPCTYPE3',\n",
    "    'ZMONITOR3',\n",
    "    'ZTIMEON3',\n",
    "    'ZPCONOFF3',\n",
    "    'ZPCSLEEP3',\n",
    "    'ZINTERNET',\n",
    "    'ZINDIALUP',\n",
    "    'ZINDSL',\n",
    "    'ZINCABLE',\n",
    "    'ZINSATEL',\n",
    "    'ZINWIRELESS',\n",
    "    'ZPCPRINT',\n",
    "    'ZFAX',\n",
    "    'ZCOPIER',\n",
    "    'ZWELLPUMP',\n",
    "    'ZDIPSTICK',\n",
    "    'ZSWAMPCOL',\n",
    "    'ZAQUARIUM',\n",
    "    'ZSTEREO',\n",
    "    'ZNOCORD',\n",
    "    'ZANSMACH',\n",
    "    'ZBATTOOLS',\n",
    "    'ZBATCHRG',\n",
    "    'ZCHRGPLGT',\n",
    "    'ZELECDEV',\n",
    "    'ZELECCHRG',\n",
    "    'ZCHRGPLGE',\n",
    "    'ZHEATHOME',\n",
    "    'ZDNTHEAT',\n",
    "    'ZEQUIPNOHEAT',\n",
    "    'ZFUELNOHEAT',\n",
    "    'ZEQUIPM',\n",
    "    'ZFUELHEAT',\n",
    "    'ZMAINTHT',\n",
    "    'ZEQUIPAGE',\n",
    "    'ZHEATOTH',\n",
    "    'ZFURNFUEL',\n",
    "    'ZRADFUEL',\n",
    "    'ZPIPEFUEL',\n",
    "    'ZRMHTFUEL',\n",
    "    'ZHSFUEL',\n",
    "    'ZFPFUEL',\n",
    "    'ZNGFPFLUE',\n",
    "    'ZUSENGFP',\n",
    "    'ZRNGFUEL',\n",
    "    'ZDIFFUEL',\n",
    "    'ZEQMAMT',\n",
    "    'ZHEATROOM',\n",
    "    'ZTHERMAIN',\n",
    "    'ZNUMTHERM',\n",
    "    'ZPROTHERM',\n",
    "    'ZAUTOHEATNITE',\n",
    "    'ZAUTOHEATDAY',\n",
    "    'ZTEMPHOME',\n",
    "    'ZTEMPGONE',\n",
    "    'ZTEMPNITE',\n",
    "    'ZMOISTURE',\n",
    "    'ZUSEMOISTURE',\n",
    "    'ZNUMH2OHTRS',\n",
    "    'ZNUMH2ONOTNK',\n",
    "    'ZH2OTYPE1',\n",
    "    'ZFUELH2O',\n",
    "    'ZWHEATOTH',\n",
    "    'ZWHEATSIZ',\n",
    "    'ZWHEATAGE',\n",
    "    'ZWHEATBKT',\n",
    "    'ZH2OTYPE2',\n",
    "    'ZFUELH2O2',\n",
    "    'ZWHEATSIZ2',\n",
    "    'ZWHEATAGE2',\n",
    "    'ZAIRCOND',\n",
    "    'ZDNTAC',\n",
    "    'ZCOOLTYPENOAC',\n",
    "    'ZCOOLTYPE',\n",
    "    'ZDUCTS',\n",
    "    'ZCENACHP',\n",
    "    'ZACOTHERS',\n",
    "    'ZMAINTAC',\n",
    "    'ZAGECENAC',\n",
    "    'ZUSECENAC',\n",
    "    'ZACROOMS',\n",
    "    'ZTHERMAINAC',\n",
    "    'ZPROTHERMAC',\n",
    "    'ZAUTOCOOLNITE',\n",
    "    'ZAUTOCOOLDAY',\n",
    "    'ZTEMPHOMEAC',\n",
    "    'ZTEMPGONEAC',\n",
    "    'ZTEMPNITEAC',\n",
    "    'ZNUMBERAC',\n",
    "    'ZWWACAGE',\n",
    "    'ZUSEWWAC',\n",
    "    'ZNUMCFAN',\n",
    "    'ZUSECFAN',\n",
    "    'ZTREESHAD',\n",
    "    'ZNOTMOIST',\n",
    "    'ZUSENOTMOIST',\n",
    "    'ZHIGHCEIL',\n",
    "    'ZCATHCEIL',\n",
    "    'ZSWIMPOOL',\n",
    "    'ZPOOL',\n",
    "    'ZFUELPOOL',\n",
    "    'ZRECBATH',\n",
    "    'ZFUELTUB',\n",
    "    'ZLGT12',\n",
    "    'ZLGT4',\n",
    "    'ZLGT1',\n",
    "    'ZNOUTLGTNT',\n",
    "    'ZNGASLIGHT',\n",
    "    'ZSLDDRS',\n",
    "    'ZDOOR1SUM',\n",
    "    'ZWINDOWS',\n",
    "    'ZTYPEGLASS',\n",
    "    'ZNEWGLASS',\n",
    "    'ZADQINSUL',\n",
    "    'ZINSTLINS',\n",
    "    'ZAGEINS',\n",
    "    'ZDRAFTY',\n",
    "    'ZINSTLWS',\n",
    "    'ZAGEWS',\n",
    "    'ZAUDIT',\n",
    "    'ZAGEAUD',\n",
    "    'ZONSITE',\n",
    "    'ZONSITEGRID',\n",
    "    'ZPELHEAT',\n",
    "    'ZPELHOTWA',\n",
    "    'ZPELCOOK',\n",
    "    'ZPELAC',\n",
    "    'ZPELLIGHT',\n",
    "    'ZOTHERWAYEL',\n",
    "    'ZPGASHEAT',\n",
    "    'ZPGASHTWA',\n",
    "    'ZPUGCOOK',\n",
    "    'ZPUGOTH',\n",
    "    'ZOTHERWAYNG',\n",
    "    'ZFOPAY',\n",
    "    'ZOTHERWAYFO',\n",
    "    'ZLPGPAY',\n",
    "    'ZOTHERWAYLPG',\n",
    "    'ZKERODEL',\n",
    "    'ZKEROCASH',\n",
    "    'ZNOCRCASH',\n",
    "    'ZNKRGALNC',\n",
    "    'ZWOODLOGS',\n",
    "    'ZWDSCRAP',\n",
    "    'ZWDPELLET',\n",
    "    'ZWDOTHER',\n",
    "    'ZWOODAMT',\n",
    "    'ZNUMCORDS',\n",
    "    'ZHHSEX',\n",
    "    'ZHHAGE',\n",
    "    'ZEMPLOYHH',\n",
    "    'ZSPOUSE',\n",
    "    'ZSDESCENT',\n",
    "    'ZHouseholder_Race',\n",
    "    'ZEDUCATION',\n",
    "    'ZNHSLDMEM',\n",
    "    'ZAGEHHMEMCAT2',\n",
    "    'ZAGEHHMEMCAT3',\n",
    "    'ZAGEHHMEMCAT4',\n",
    "    'ZAGEHHMEMCAT5',\n",
    "    'ZAGEHHMEMCAT6',\n",
    "    'ZAGEHHMEMCAT7',\n",
    "    'ZAGEHHMEMCAT8',\n",
    "    'ZAGEHHMEMCAT9',\n",
    "    'ZAGEHHMEMCAT10',\n",
    "    'ZAGEHHMEMCAT11',\n",
    "    'ZAGEHHMEMCAT12',\n",
    "    'ZAGEHHMEMCAT13',\n",
    "    'ZAGEHHMEMCAT14',\n",
    "    'ZHBUSNESS',\n",
    "    'ZATHOME',\n",
    "    'ZTELLWORK',\n",
    "    'ZTELLDAYS',\n",
    "    'ZOTHWORK',\n",
    "    'ZWORKPAY',\n",
    "    'ZRETIREPY',\n",
    "    'ZSSINCOME',\n",
    "    'ZCASHBEN',\n",
    "    'ZINVESTMT',\n",
    "    'ZRGLRPAY',\n",
    "    'ZMONEYPY',\n",
    "    'ZHUPROJ',\n",
    "    'ZRENTHELP',\n",
    "    'ZFOODASST',\n",
    "    'ZTOTSQFT',\n",
    "    'ZTOTSQFT_EN',\n",
    "    'ZTOTHSQFT',\n",
    "    'ZTOTUSQFT',\n",
    "    'ZTOTCSQFT',\n",
    "    'ZTOTUCSQFT'\n",
    "])"
   ]
  },
  {
   "cell_type": "code",
   "execution_count": 6,
   "metadata": {},
   "outputs": [
    {
     "data": {
      "text/plain": [
       "(12083, 581)"
      ]
     },
     "execution_count": 6,
     "metadata": {},
     "output_type": "execute_result"
    }
   ],
   "source": [
    "energy = energy.drop(vars_imputation_flags, axis=1)\n",
    "energy.shape"
   ]
  },
  {
   "cell_type": "code",
   "execution_count": 7,
   "metadata": {},
   "outputs": [],
   "source": [
    "response_var = 'TOTALDOL'\n",
    "\n",
    "vars_response = ([\n",
    "'NWEIGHT',\n",
    "'NOCRCASH',\n",
    "'NKRGALNC',\n",
    "'NUMCORDS',\n",
    "'KWH',\n",
    "'KWHSPH',\n",
    "'KWHCOL',\n",
    "'KWHWTH',\n",
    "'KWHRFG',\n",
    "'KWHOTH', \n",
    "'BTUEL',\n",
    "'BTUELSPH',\n",
    "'BTUELCOL',\n",
    "'BTUELWTH',\n",
    "'BTUELRFG',\n",
    "'BTUELOTH',\n",
    "'DOLLAREL',\n",
    "'DOLELSPH',\n",
    "'DOLELCOL',\n",
    "'DOLELWTH',\n",
    "'DOLELRFG',\n",
    "'DOLELOTH',\n",
    "'CUFEETNG',\n",
    "'CUFEETNGSPH',\n",
    "'CUFEETNGWTH',\n",
    "'CUFEETNGOTH',\n",
    "'BTUNG',\n",
    "'BTUNGSPH',\n",
    "'BTUNGWTH',\n",
    "'BTUNGOTH',\n",
    "'DOLLARNG',\n",
    "'DOLNGSPH',\n",
    "'DOLNGWTH',\n",
    "'DOLNGOTH',\n",
    "'GALLONLP',\n",
    "'GALLONLPSPH',\n",
    "'GALLONLPWTH',\n",
    "'GALLONLPOTH',\n",
    "'BTULP',\n",
    "'BTULPSPH',\n",
    "'BTULPWTH',\n",
    "'BTULPOTH',\n",
    "'DOLLARLP',\n",
    "'DOLLPSPH',\n",
    "'DOLLPWTH',\n",
    "'DOLLPOTH',\n",
    "'GALLONFO',\n",
    "'GALLONFOSPH',\n",
    "'GALLONFOWTH',\n",
    "'GALLONFOOTH',\n",
    "'BTUFO',\n",
    "'BTUFOSPH',\n",
    "'BTUFOWTH',\n",
    "'BTUFOOTH',\n",
    "'DOLLARFO',\n",
    "'DOLFOSPH',\n",
    "'DOLFOWTH',\n",
    "'DOLFOOTH',\n",
    "'GALLONKER',\n",
    "'GALLONKERSPH',\n",
    "'GALLONKERWTH',\n",
    "'GALLONKEROTH',\n",
    "'BTUKER',\n",
    "'BTUKERSPH',\n",
    "'BTUKERWTH',\n",
    "'BTUKEROTH',\n",
    "'DOLLARKER',\n",
    "'DOLKERSPH',\n",
    "'DOLKERWTH',\n",
    "'DOLKEROTH',\n",
    "'BTUWOOD',\n",
    "'CORDSWD',\n",
    "'TOTALBTU',\n",
    "'TOTALBTUSPH',\n",
    "'TOTALBTUCOL',\n",
    "'TOTALBTUWTH',\n",
    "'TOTALBTURFG',\n",
    "'TOTALBTUOTH',\n",
    "'TOTALDOL',\n",
    "'TOTALDOLSPH',\n",
    "'TOTALDOLCOL',\n",
    "'TOTALDOLWTH',\n",
    "'TOTALDOLRFG',\n",
    "'TOTALDOLOTH'\n",
    "])"
   ]
  },
  {
   "cell_type": "code",
   "execution_count": 8,
   "metadata": {},
   "outputs": [],
   "source": [
    "response_var_log = response_var + '_log'\n",
    "energy[response_var + '_log'] = np.log(energy[response_var])"
   ]
  },
  {
   "cell_type": "code",
   "execution_count": 9,
   "metadata": {},
   "outputs": [
    {
     "data": {
      "text/plain": [
       "(12083, 499)"
      ]
     },
     "execution_count": 9,
     "metadata": {},
     "output_type": "execute_result"
    }
   ],
   "source": [
    "energy = energy.drop(filter(lambda x: x not in [response_var, response_var_log], vars_response), axis=1)\n",
    "energy.shape"
   ]
  },
  {
   "cell_type": "code",
   "execution_count": 10,
   "metadata": {},
   "outputs": [],
   "source": [
    "vars_predictor_quan = ([\n",
    "    'HDD65',\n",
    "    'CDD65',\n",
    "    'HDD30YR',\n",
    "    'CDD30YR',\n",
    "    'NUMFLRS',\n",
    "    'NUMAPTS',\n",
    "    'BEDROOMS',\n",
    "    'NCOMBATH',\n",
    "    'NHAFBATH',\n",
    "    'OTHROOMS',\n",
    "    'TOTROOMS',\n",
    "    'STOVEN',\n",
    "    'STOVE',\n",
    "    'OVEN',\n",
    "    'NUMFRIG',\n",
    "    'MONRFRI2',\n",
    "    'MONRFRI3',\n",
    "    'TVCOLOR',\n",
    "    'NUMPC',\n",
    "    'PCPRINT',\n",
    "    'HEATROOM',\n",
    "    'NUMTHERM',\n",
    "    'TEMPHOME',\n",
    "    'TEMPGONE',\n",
    "    'TEMPNITE',\n",
    "    'NUMH2ONOTNK',\n",
    "    'NUMH2OHTRS',\n",
    "    'ACROOMS',\n",
    "    'TEMPHOMEAC',\n",
    "    'TEMPGONEAC',\n",
    "    'TEMPNITEAC',\n",
    "    'NUMBERAC',\n",
    "    'NUMCFAN',\n",
    "    'LGT12',\n",
    "    'LGT12EE',\n",
    "    'LGT4',\n",
    "    'LGT4EE',\n",
    "    'LGT1',\n",
    "    'LGT1EE',\n",
    "    'NOUTLGTNT',\n",
    "    'LGTOEE',\n",
    "    'NGASLIGHT',\n",
    "    'DOOR1SUM',\n",
    "    'NHSLDMEM',\n",
    "    'HHAGE',\n",
    "    'TELLDAYS',\n",
    "    'TOTSQFT',\n",
    "    'TOTSQFT_EN',\n",
    "    'TOTHSQFT',\n",
    "    'TOTUSQFT',\n",
    "    'TOTCSQFT',\n",
    "    'TOTUCSQFT',\n",
    "    'HDD50',\n",
    "    'CDD80',\n",
    "    'GND_HDD65',\n",
    "    'WSF',\n",
    "    'OA_LAT',\n",
    "    'GWT',\n",
    "    'DesignDBT99',\n",
    "    'DesignDBT1'\n",
    "])"
   ]
  },
  {
   "cell_type": "code",
   "execution_count": 11,
   "metadata": {},
   "outputs": [],
   "source": [
    "vars_predictor_qual = [v for v in energy.columns if v not in vars_predictor_quan]"
   ]
  },
  {
   "cell_type": "code",
   "execution_count": 12,
   "metadata": {},
   "outputs": [
    {
     "data": {
      "text/plain": [
       "\"Looks like we've got 60 quantitative predictors and 439 qualitative\""
      ]
     },
     "execution_count": 12,
     "metadata": {},
     "output_type": "execute_result"
    }
   ],
   "source": [
    "(\"Looks like we've got {} quantitative predictors and {} qualitative\".\n",
    " format(len(vars_predictor_quan), len(vars_predictor_qual)))"
   ]
  },
  {
   "cell_type": "markdown",
   "metadata": {},
   "source": [
    "Let's screen quantitative variables"
   ]
  },
  {
   "cell_type": "code",
   "execution_count": 13,
   "metadata": {},
   "outputs": [
    {
     "data": {
      "text/plain": [
       "<matplotlib.axes._subplots.AxesSubplot at 0x10cb92a90>"
      ]
     },
     "execution_count": 13,
     "metadata": {},
     "output_type": "execute_result"
    },
    {
     "data": {
      "image/png": "[encoded data removed]",
      "text/plain": [
       "<Figure size 1152x1152 with 2 Axes>"
      ]
     },
     "metadata": {},
     "output_type": "display_data"
    }
   ],
   "source": [
    "plt.figure(figsize=(16,16))\n",
    "sns.heatmap(energy[[response_var] + vars_predictor_quan].corr(), linewidths=.5, cmap=\"RdYlGn\")"
   ]
  },
  {
   "cell_type": "markdown",
   "metadata": {},
   "source": [
    "Plot top 5 features!"
   ]
  },
  {
   "cell_type": "code",
   "execution_count": 14,
   "metadata": {},
   "outputs": [],
   "source": [
    "energy_sample = energy.sample(1000)"
   ]
  },
  {
   "cell_type": "code",
   "execution_count": null,
   "metadata": {},
   "outputs": [],
   "source": [
    "energy_sample['TOTSQFT_log'] = np.log(energy_sample.TOTSQFT)\n",
    "sns.lmplot(data=energy_sample, y=response_var_log, x='TOTSQFT_log', size=8)"
   ]
  },
  {
   "cell_type": "code",
   "execution_count": null,
   "metadata": {},
   "outputs": [],
   "source": [
    "sns.lmplot(data=energy_sample, y=response_var_log, x='TOTROOMS', size=8)"
   ]
  },
  {
   "cell_type": "code",
   "execution_count": null,
   "metadata": {},
   "outputs": [],
   "source": [
    "sns.lmplot(data=energy_sample, y=response_var_log, x='HEATROOM', size=8)"
   ]
  },
  {
   "cell_type": "code",
   "execution_count": null,
   "metadata": {},
   "outputs": [],
   "source": [
    "energy_sample['NUMCFAN_log'] = np.log(1 + energy_sample.NUMCFAN)\n",
    "sns.lmplot(data=energy_sample, y=response_var_log, x='NUMCFAN_log', size=8)"
   ]
  },
  {
   "cell_type": "code",
   "execution_count": null,
   "metadata": {},
   "outputs": [],
   "source": [
    "sns.lmplot(data=energy_sample, y=response_var_log, x='TVCOLOR', size=8)"
   ]
  },
  {
   "cell_type": "markdown",
   "metadata": {},
   "source": [
    "Let's screen quantitative variables"
   ]
  },
  {
   "cell_type": "code",
   "execution_count": null,
   "metadata": {},
   "outputs": [],
   "source": [
    "from sklearn.tree import DecisionTreeRegressor\n",
    "from sklearn.datasets import make_regression\n",
    "from sklearn.model_selection import train_test_split"
   ]
  },
  {
   "cell_type": "code",
   "execution_count": null,
   "metadata": {},
   "outputs": [],
   "source": [
    "y = energy[response_var].values.flatten()\n",
    "X = pd.get_dummies(energy[vars_predictor_qual])\n",
    "del X[response_var]\n",
    "del X[response_var_log]"
   ]
  },
  {
   "cell_type": "code",
   "execution_count": null,
   "metadata": {},
   "outputs": [],
   "source": [
    "regr = DecisionTreeRegressor()\n",
    "regr.fit(X, y)"
   ]
  },
  {
   "cell_type": "code",
   "execution_count": null,
   "metadata": {},
   "outputs": [],
   "source": [
    "features = pd.DataFrame(\n",
    "    {'feature_importances' : pd.Series(regr.feature_importances_), 'variable': pd.Series(X.columns)})"
   ]
  },
  {
   "cell_type": "code",
   "execution_count": null,
   "metadata": {},
   "outputs": [],
   "source": [
    "first_50 = features.sort_values(by='feature_importances', ascending=False).head(50)\n",
    "first_50"
   ]
  },
  {
   "cell_type": "code",
   "execution_count": null,
   "metadata": {},
   "outputs": [],
   "source": [
    "plt.figure(figsize=(16,16))\n",
    "barplot = sns.barplot(data=first_50, y='feature_importances', x='variable')\n",
    "_ = barplot.set_xticklabels(barplot.get_xticklabels(), rotation=90)"
   ]
  },
  {
   "cell_type": "markdown",
   "metadata": {},
   "source": [
    "Now plot top 5!"
   ]
  },
  {
   "cell_type": "code",
   "execution_count": null,
   "metadata": {},
   "outputs": [],
   "source": [
    "sns.boxplot(data=energy, y = response_var_log, x='WINDOWS')"
   ]
  },
  {
   "cell_type": "code",
   "execution_count": null,
   "metadata": {},
   "outputs": [],
   "source": [
    "sns.boxplot(data=energy, y = response_var_log, x='MONEYPY')"
   ]
  },
  {
   "cell_type": "code",
   "execution_count": null,
   "metadata": {},
   "outputs": [],
   "source": [
    "plt.figure(figsize=(16,32))\n",
    "sns.boxplot(data=energy, y = 'YEARMADE', x=response_var_log, orient='h')"
   ]
  },
  {
   "cell_type": "code",
   "execution_count": null,
   "metadata": {},
   "outputs": [],
   "source": [
    "sns.boxplot(data=energy, y = response_var_log, x='REPORTABLE_DOMAIN')"
   ]
  },
  {
   "cell_type": "code",
   "execution_count": null,
   "metadata": {},
   "outputs": [],
   "source": [
    "sns.boxplot(data=energy, y = response_var_log, x='FUELPOOL')"
   ]
  },
  {
   "cell_type": "code",
   "execution_count": null,
   "metadata": {},
   "outputs": [],
   "source": [
    "sns.boxplot(data=energy, y = response_var_log, x='DIVISION')"
   ]
  },
  {
   "cell_type": "raw",
   "metadata": {},
   "source": [
    "energy.to_csv('../../data/recs2009_public_vlad_clean.csv', index=False)"
   ]
  },
  {
   "cell_type": "code",
   "execution_count": null,
   "metadata": {},
   "outputs": [],
   "source": [
    "plot_data = energy[(energy.FUELPOOL < 10) & (energy.FUELPOOL > 0)]\n",
    "ax = sns.boxplot(data=plot_data, y = response_var_log, x='FUELPOOL', showfliers=False)\n",
    "_ = plt.xticks(plt.xticks()[0], ['Natural Gas', 'Propane/LPG', 'Fuel Oil', 'Electricity', 'Solar'])\n",
    "ax.set_ylabel('log dollars')    \n",
    "ax.set_xlabel('')\n",
    "plt.title('Total energy cost by type of fuel used for heating swimming pool', fontsize=18)"
   ]
  },
  {
   "cell_type": "code",
   "execution_count": null,
   "metadata": {},
   "outputs": [],
   "source": []
  }
 ],
 "metadata": {
  "kernelspec": {
   "display_name": "Python 3",
   "language": "python",
   "name": "python3"
  },
  "language_info": {
   "codemirror_mode": {
    "name": "ipython",
    "version": 3
   },
   "file_extension": ".py",
   "mimetype": "text/x-python",
   "name": "python",
   "nbconvert_exporter": "python",
   "pygments_lexer": "ipython3",
   "version": "3.6.4"
  }
 },
 "nbformat": 4,
 "nbformat_minor": 2
}
